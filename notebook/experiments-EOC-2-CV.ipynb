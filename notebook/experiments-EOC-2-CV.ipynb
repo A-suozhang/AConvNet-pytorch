{
 "cells": [
  {
   "cell_type": "code",
   "execution_count": 1,
   "metadata": {},
   "outputs": [],
   "source": [
    "import matplotlib.pyplot as plt\n",
    "\n",
    "import numpy as np\n",
    "\n",
    "import json\n",
    "import glob\n",
    "import sys\n",
    "import os\n",
    "\n",
    "sys.path.append('../src')"
   ]
  },
  {
   "cell_type": "markdown",
   "metadata": {},
   "source": [
    "### Visualization of training loss and test accuracy"
   ]
  },
  {
   "cell_type": "code",
   "execution_count": 2,
   "metadata": {},
   "outputs": [],
   "source": [
    "with open('../experiments/history/history-AConvNet-EOC-2-CV.json') as f:\n",
    "    history = json.load(f)"
   ]
  },
  {
   "cell_type": "code",
   "execution_count": 3,
   "metadata": {},
   "outputs": [
    {
     "data": {
      "image/png": "[encoded data removed]",
      "text/plain": [
       "<Figure size 432x288 with 2 Axes>"
      ]
     },
     "metadata": {
      "needs_background": "light"
     },
     "output_type": "display_data"
    }
   ],
   "source": [
    "training_loss = history['loss']\n",
    "test_accuracy = history['accuracy']\n",
    "\n",
    "epochs = np.arange(len(training_loss))\n",
    "\n",
    "fig, ax1 = plt.subplots()\n",
    "ax2 = ax1.twinx()\n",
    "\n",
    "plot1, = ax1.plot(epochs, training_loss, marker='.', c='blue', label='loss')\n",
    "plot2, = ax2.plot(epochs, test_accuracy, marker='.', c='red', label='accuracy')\n",
    "plt.legend([plot1, plot2], ['loss', 'accuracy'], loc='upper right')\n",
    "\n",
    "plt.grid()\n",
    "\n",
    "ax1.set_xlabel('Epoch')\n",
    "ax1.set_ylabel('loss', color='blue')\n",
    "ax2.set_ylabel('accuracy', color='red')\n",
    "plt.show()\n"
   ]
  },
  {
   "cell_type": "markdown",
   "metadata": {},
   "source": [
    "### Early Stopping"
   ]
  },
  {
   "cell_type": "code",
   "execution_count": 4,
   "metadata": {},
   "outputs": [],
   "source": [
    "from tqdm import tqdm\n",
    "import torchvision\n",
    "import torch\n",
    "\n",
    "from utils import common\n",
    "from data import preprocess\n",
    "from data import loader\n",
    "import model"
   ]
  },
  {
   "cell_type": "code",
   "execution_count": 5,
   "metadata": {},
   "outputs": [],
   "source": [
    "def load_dataset(path, is_train, name, batch_size):\n",
    "\n",
    "    _dataset = loader.Dataset(\n",
    "        path, name=name, is_train=is_train,\n",
    "        transform=torchvision.transforms.Compose([\n",
    "            preprocess.CenterCrop(88), torchvision.transforms.ToTensor()\n",
    "        ])\n",
    "    )\n",
    "    data_loader = torch.utils.data.DataLoader(\n",
    "        _dataset, batch_size=batch_size, shuffle=is_train, num_workers=1\n",
    "    )\n",
    "    return data_loader\n",
    "\n",
    "\n",
    "def evaluate(_m, ds):\n",
    "    \n",
    "    num_data = 0\n",
    "    corrects = 0\n",
    "    \n",
    "    _m.net.eval()\n",
    "    _softmax = torch.nn.Softmax(dim=1)\n",
    "    for i, data in enumerate(ds):\n",
    "        images, labels, _ = data\n",
    "\n",
    "        predictions = _m.inference(images)\n",
    "        predictions = _softmax(predictions)\n",
    "\n",
    "        _, predictions = torch.max(predictions.data, 1)\n",
    "        labels = labels.type(torch.LongTensor)\n",
    "        num_data += labels.size(0)\n",
    "        corrects += (predictions == labels.to(m.device)).sum().item()\n",
    "\n",
    "    accuracy = 100 * corrects / num_data\n",
    "    return accuracy"
   ]
  },
  {
   "cell_type": "code",
   "execution_count": 6,
   "metadata": {},
   "outputs": [
    {
     "name": "stderr",
     "output_type": "stream",
     "text": [
      "load test data set: 2710it [00:01, 2059.28it/s]\n",
      "d:\\ivs\\project\\004-research\\signal-processing\\image-processing\\remote-sensing\\aconvnet\\aconvnet-pytorch\\venv\\lib\\site-packages\\torch\\nn\\functional.py:718: UserWarning: Named tensors and all their associated APIs are an experimental feature and subject to change. Please do not use them for anything important until they are released as stable. (Triggered internally at  ..\\c10/core/TensorImpl.h:1156.)\n",
      "  return torch.max_pool2d(input, kernel_size, stride, padding, dilation, ceil_mode)\n"
     ]
    },
    {
     "name": "stdout",
     "output_type": "stream",
     "text": [
      "Best accuracy at epoch=0 with 8.45%\n",
      "Best accuracy at epoch=1 with 61.73%\n",
      "Best accuracy at epoch=3 with 81.92%\n",
      "Best accuracy at epoch=4 with 85.90%\n",
      "Best accuracy at epoch=5 with 96.79%\n",
      "Best accuracy at epoch=9 with 97.82%\n",
      "Best accuracy at epoch=17 with 98.78%\n",
      "Best accuracy at epoch=23 with 99.15%\n",
      "Best accuracy at epoch=35 with 99.19%\n",
      "Best accuracy at epoch=42 with 99.30%\n",
      "Best accuracy at epoch=95 with 99.41%\n",
      "Final model is epoch=95 with accurayc=99.41%\n",
      "Path=D:\\ivs\\Project\\004-research\\signal-processing\\image-processing\\remote-sensing\\aconvnet\\AConvNet-pytorch\\experiments/model/AConvNet-EOC-2-CV\\model-096.pth\n"
     ]
    }
   ],
   "source": [
    "\n",
    "config = common.load_config(os.path.join(common.project_root, 'experiments/config/AConvNet-EOC-2-CV.json'))\n",
    "model_name = config['model_name']\n",
    "test_set = load_dataset('dataset', False, 'eoc-2-cv', 100)\n",
    "\n",
    "m = model.Model(\n",
    "    classes=config['num_classes'], channels=config['channels'],\n",
    ")\n",
    "\n",
    "model_history = glob.glob(os.path.join(common.project_root, f'experiments/model/{model_name}/*.pth'))\n",
    "model_history = sorted(model_history, key=os.path.basename)\n",
    "\n",
    "best = {\n",
    "    'epoch': 0,\n",
    "    'accuracy': 0,\n",
    "    'path': ''\n",
    "}\n",
    "\n",
    "for i, model_path in enumerate(model_history):\n",
    "    m.load(model_path)\n",
    "    accuracy = evaluate(m, test_set)\n",
    "    if accuracy > best['accuracy']:\n",
    "        best['epoch'] = i\n",
    "        best['accuracy'] = accuracy\n",
    "        best['path'] = model_path\n",
    "        print(f'Best accuracy at epoch={i} with {accuracy:.2f}%')\n",
    "    \n",
    "best_epoch = best['epoch']\n",
    "best_accuracy = best['accuracy']\n",
    "best_path = best['path']\n",
    "\n",
    "print(f'Final model is epoch={best_epoch} with accurayc={best_accuracy:.2f}%')\n",
    "print(f'Path={best_path}')"
   ]
  },
  {
   "cell_type": "markdown",
   "metadata": {},
   "source": [
    "### Confusion Matrix with Best Model"
   ]
  },
  {
   "cell_type": "code",
   "execution_count": 7,
   "metadata": {},
   "outputs": [],
   "source": [
    "from sklearn import metrics\n",
    "from data import mstar\n",
    "\n",
    "def confusion_matrix(_m, ds):\n",
    "    _pred = []\n",
    "    _gt = []\n",
    "    \n",
    "    _m.net.eval()\n",
    "    _softmax = torch.nn.Softmax(dim=1)\n",
    "    for i, data in enumerate(ds):\n",
    "        images, labels, _ = data\n",
    "        \n",
    "        predictions = _m.inference(images)\n",
    "        predictions = _softmax(predictions)\n",
    "\n",
    "        _, predictions = torch.max(predictions.data, 1)\n",
    "        labels = labels.type(torch.LongTensor)\n",
    "        \n",
    "        _pred += predictions.cpu().tolist()\n",
    "        _gt += labels.cpu().tolist()\n",
    "        \n",
    "    conf_mat = metrics.confusion_matrix(_gt, _pred, labels=range(4))\n",
    "        \n",
    "    return conf_mat"
   ]
  },
  {
   "cell_type": "code",
   "execution_count": 13,
   "metadata": {},
   "outputs": [
    {
     "data": {
      "image/png": "[encoded data removed]",
      "text/plain": [
       "<Figure size 640x480 with 1 Axes>"
      ]
     },
     "metadata": {},
     "output_type": "display_data"
    }
   ],
   "source": [
    "import matplotlib.pyplot as plt\n",
    "import seaborn as sns\n",
    "\n",
    "m.load(best_path)\n",
    "_conf_mat = confusion_matrix(m, test_set)\n",
    "\n",
    "sns.reset_defaults()\n",
    "ax = sns.heatmap(_conf_mat[3:, :], annot=True, fmt='d', cbar=False)\n",
    "ax.set_yticklabels(['T72',], rotation=0)\n",
    "ax.set_xticklabels(mstar.target_name_eoc_2, rotation=30)\n",
    "\n",
    "plt.xlabel('prediction', fontsize=12)\n",
    "plt.ylabel('label', fontsize=12)\n",
    "\n",
    "\n",
    "plt.show()"
   ]
  },
  {
   "cell_type": "markdown",
   "metadata": {},
   "source": [
    "### Noise Simulation"
   ]
  },
  {
   "cell_type": "code",
   "execution_count": 9,
   "metadata": {},
   "outputs": [],
   "source": [
    "from skimage import util\n",
    "\n",
    "\n",
    "def generate_noise(_images, amount):\n",
    "    \n",
    "    n, _, h, w = _images.shape\n",
    "        \n",
    "    noise = np.array([np.random.uniform(size=(1, h, w)) for _ in range(n)])\n",
    "    portions = np.array([\n",
    "        util.random_noise(np.zeros((1, h, w)), mode='s&p', amount=amount)\n",
    "        for _ in range(n)\n",
    "    ])\n",
    "    noise = noise * portions\n",
    "        \n",
    "    return _images + noise.astype(np.float32)\n",
    "\n",
    "\n",
    "def noise_simulation(_m, ds, noise_ratio):\n",
    "    \n",
    "    num_data = 0\n",
    "    corrects = 0\n",
    "    \n",
    "    _m.net.eval()\n",
    "    _softmax = torch.nn.Softmax(dim=1)\n",
    "    for i, data in enumerate(ds):\n",
    "        images, labels, _ = data\n",
    "        images = generate_noise(images, noise_ratio)\n",
    "\n",
    "        predictions = _m.inference(images)\n",
    "        predictions = _softmax(predictions)\n",
    "\n",
    "        _, predictions = torch.max(predictions.data, 1)\n",
    "        labels = labels.type(torch.LongTensor)\n",
    "        num_data += labels.size(0)\n",
    "        corrects += (predictions == labels.to(m.device)).sum().item()\n",
    "\n",
    "    accuracy = 100 * corrects / num_data\n",
    "    \n",
    "    return accuracy"
   ]
  },
  {
   "cell_type": "code",
   "execution_count": 10,
   "metadata": {},
   "outputs": [
    {
     "name": "stdout",
     "output_type": "stream",
     "text": [
      "ratio = 0.01, accuracy = 98.93\n",
      "ratio = 0.05, accuracy = 93.28\n",
      "ratio = 0.10, accuracy = 62.18\n",
      "ratio = 0.15, accuracy = 26.42\n"
     ]
    }
   ],
   "source": [
    "noise_result = {}\n",
    "\n",
    "for ratio in [0.01, 0.05, 0.10, 0.15]:\n",
    "    noise_result[ratio] = noise_simulation(m, test_set, ratio)\n",
    "    print(f'ratio = {ratio:.2f}, accuracy = {noise_result[ratio]:.2f}')\n"
   ]
  },
  {
   "cell_type": "code",
   "execution_count": null,
   "metadata": {},
   "outputs": [],
   "source": []
  }
 ],
 "metadata": {
  "kernelspec": {
   "display_name": "Python 3 (ipykernel)",
   "language": "python",
   "name": "python3"
  },
  "language_info": {
   "codemirror_mode": {
    "name": "ipython",
    "version": 3
   },
   "file_extension": ".py",
   "mimetype": "text/x-python",
   "name": "python",
   "nbconvert_exporter": "python",
   "pygments_lexer": "ipython3",
   "version": "3.7.9"
  }
 },
 "nbformat": 4,
 "nbformat_minor": 4
}
