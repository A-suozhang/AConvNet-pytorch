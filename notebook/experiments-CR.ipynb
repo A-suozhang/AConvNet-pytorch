{
 "cells": [
  {
   "cell_type": "code",
   "execution_count": 1,
   "metadata": {},
   "outputs": [],
   "source": [
    "import matplotlib.pyplot as plt\n",
    "\n",
    "import numpy as np\n",
    "\n",
    "import json\n",
    "import glob\n",
    "import sys\n",
    "import os\n",
    "\n",
    "sys.path.append('../src')"
   ]
  },
  {
   "cell_type": "markdown",
   "metadata": {},
   "source": [
    "### Visualization of training loss and test accuracy"
   ]
  },
  {
   "cell_type": "code",
   "execution_count": 2,
   "metadata": {},
   "outputs": [],
   "source": [
    "with open('../experiments/history/history-AConvNet-CR.json') as f:\n",
    "    history = json.load(f)"
   ]
  },
  {
   "cell_type": "code",
   "execution_count": 3,
   "metadata": {},
   "outputs": [
    {
     "data": {
      "image/png": "[encoded data removed]",
      "text/plain": [
       "<Figure size 432x288 with 2 Axes>"
      ]
     },
     "metadata": {
      "needs_background": "light"
     },
     "output_type": "display_data"
    }
   ],
   "source": [
    "training_loss = history['loss']\n",
    "test_accuracy = history['accuracy']\n",
    "\n",
    "epochs = np.arange(len(training_loss))\n",
    "\n",
    "fig, ax1 = plt.subplots()\n",
    "ax2 = ax1.twinx()\n",
    "\n",
    "plot1, = ax1.plot(epochs, training_loss, marker='.', c='blue', label='loss')\n",
    "plot2, = ax2.plot(epochs, test_accuracy, marker='.', c='red', label='accuracy')\n",
    "plt.legend([plot1, plot2], ['loss', 'accuracy'], loc='upper right')\n",
    "\n",
    "plt.grid()\n",
    "\n",
    "ax1.set_xlabel('Epoch')\n",
    "ax1.set_ylabel('loss', color='blue')\n",
    "ax2.set_ylabel('accuracy', color='red')\n",
    "plt.show()\n"
   ]
  },
  {
   "cell_type": "markdown",
   "metadata": {},
   "source": [
    "### Early Stopping"
   ]
  },
  {
   "cell_type": "code",
   "execution_count": 4,
   "metadata": {},
   "outputs": [],
   "source": [
    "from tqdm import tqdm\n",
    "import torchvision\n",
    "import torch\n",
    "\n",
    "from utils import common\n",
    "from data import preprocess\n",
    "from data import loader\n",
    "import model"
   ]
  },
  {
   "cell_type": "code",
   "execution_count": 5,
   "metadata": {},
   "outputs": [],
   "source": [
    "def load_dataset(path, is_train, name, batch_size):\n",
    "\n",
    "    _dataset = loader.Dataset(\n",
    "        path, name=name, is_train=is_train,\n",
    "        transform=torchvision.transforms.Compose([\n",
    "            preprocess.CenterCrop(88), torchvision.transforms.ToTensor()\n",
    "        ])\n",
    "    )\n",
    "    data_loader = torch.utils.data.DataLoader(\n",
    "        _dataset, batch_size=batch_size, shuffle=is_train, num_workers=1\n",
    "    )\n",
    "    return data_loader\n",
    "\n",
    "\n",
    "def evaluate(_m, ds):\n",
    "    \n",
    "    num_data = 0\n",
    "    corrects = 0\n",
    "    num_confusers = 0\n",
    "    _m.net.eval()\n",
    "    _softmax = torch.nn.Softmax(dim=1)\n",
    "    for i, data in enumerate(ds):\n",
    "        images, labels, _ = data\n",
    "        \n",
    "        predictions = _m.inference(images)\n",
    "        predictions = _softmax(predictions)\n",
    "\n",
    "        _, predictions = torch.max(predictions.data, 1)\n",
    "        labels = labels.type(torch.LongTensor)\n",
    "        num_data += labels.size(0)\n",
    "        corrects += (predictions == labels.to(m.device)).sum().item()\n",
    "        num_confusers += (labels >= 3).sum().item() \n",
    "\n",
    "    accuracy = 100 * corrects / (num_data - num_confusers)\n",
    "    return accuracy"
   ]
  },
  {
   "cell_type": "code",
   "execution_count": 6,
   "metadata": {},
   "outputs": [
    {
     "name": "stderr",
     "output_type": "stream",
     "text": [
      "load test data set: 1135it [00:19, 57.91it/s]\n",
      "d:\\ivs\\project\\004-research\\signal-processing\\image-processing\\remote-sensing\\aconvnet\\aconvnet-pytorch\\venv\\lib\\site-packages\\torch\\nn\\functional.py:718: UserWarning: Named tensors and all their associated APIs are an experimental feature and subject to change. Please do not use them for anything important until they are released as stable. (Triggered internally at  ..\\c10/core/TensorImpl.h:1156.)\n",
      "  return torch.max_pool2d(input, kernel_size, stride, padding, dilation, ceil_mode)\n"
     ]
    },
    {
     "name": "stdout",
     "output_type": "stream",
     "text": [
      "Best accuracy at epoch=0 with 38.67%\n",
      "Best accuracy at epoch=1 with 61.50%\n",
      "Best accuracy at epoch=2 with 75.30%\n",
      "Best accuracy at epoch=4 with 84.16%\n",
      "Best accuracy at epoch=5 with 90.46%\n",
      "Best accuracy at epoch=6 with 91.31%\n",
      "Best accuracy at epoch=7 with 91.48%\n",
      "Best accuracy at epoch=8 with 94.55%\n",
      "Best accuracy at epoch=10 with 95.06%\n",
      "Best accuracy at epoch=11 with 95.40%\n",
      "Best accuracy at epoch=12 with 95.91%\n",
      "Best accuracy at epoch=15 with 97.10%\n",
      "Best accuracy at epoch=16 with 97.44%\n",
      "Best accuracy at epoch=23 with 98.30%\n",
      "Best accuracy at epoch=28 with 98.64%\n",
      "Best accuracy at epoch=38 with 98.81%\n",
      "Final model is epoch=38 with accurayc=98.81%\n",
      "Path=D:\\ivs\\Project\\004-research\\signal-processing\\image-processing\\remote-sensing\\aconvnet\\AConvNet-pytorch\\experiments/model/AConvNet-CR\\model-039.pth\n"
     ]
    }
   ],
   "source": [
    "\n",
    "config = common.load_config(os.path.join(common.project_root, 'experiments/config/AConvNet-CR.json'))\n",
    "model_name = config['model_name']\n",
    "test_set = load_dataset('dataset', False, 'confuser-rejection', 100)\n",
    "\n",
    "m = model.Model(\n",
    "    classes=config['num_classes'], channels=config['channels'],\n",
    ")\n",
    "\n",
    "model_history = glob.glob(os.path.join(common.project_root, f'experiments/model/{model_name}/*.pth'))\n",
    "model_history = sorted(model_history, key=os.path.basename)\n",
    "\n",
    "best = {\n",
    "    'epoch': 0,\n",
    "    'accuracy': 0,\n",
    "    'path': ''\n",
    "}\n",
    "\n",
    "for i, model_path in enumerate(model_history):\n",
    "    m.load(model_path)\n",
    "    accuracy = evaluate(m, test_set)\n",
    "    if accuracy > best['accuracy']:\n",
    "        best['epoch'] = i\n",
    "        best['accuracy'] = accuracy\n",
    "        best['path'] = model_path\n",
    "        print(f'Best accuracy at epoch={i} with {accuracy:.2f}%')\n",
    "    \n",
    "best_epoch = best['epoch']\n",
    "best_accuracy = best['accuracy']\n",
    "best_path = best['path']\n",
    "\n",
    "print(f'Final model is epoch={best_epoch} with accurayc={best_accuracy:.2f}%')\n",
    "print(f'Path={best_path}')"
   ]
  },
  {
   "cell_type": "markdown",
   "metadata": {},
   "source": [
    "### Confusion Matrix with Best Model"
   ]
  },
  {
   "cell_type": "code",
   "execution_count": 7,
   "metadata": {},
   "outputs": [],
   "source": [
    "from sklearn import metrics\n",
    "from data.mstar import target\n",
    "\n",
    "def confusion_matrix(_m, ds):\n",
    "    _pred = []\n",
    "    _gt = []\n",
    "    \n",
    "    _m.net.eval()\n",
    "    _softmax = torch.nn.Softmax(dim=1)\n",
    "    for i, data in enumerate(ds):\n",
    "        images, labels, _ = data\n",
    "        \n",
    "        predictions = _m.inference(images)\n",
    "        predictions = _softmax(predictions)\n",
    "\n",
    "        _, predictions = torch.max(predictions.data, 1)\n",
    "        labels = labels.type(torch.LongTensor)\n",
    "        \n",
    "        _known = labels < 3\n",
    "        \n",
    "        _pred += predictions[_known].cpu().tolist()\n",
    "        _gt += labels[_known].cpu().tolist()\n",
    "        \n",
    "    conf_mat = metrics.confusion_matrix(_gt, _pred)\n",
    "        \n",
    "    return conf_mat"
   ]
  },
  {
   "cell_type": "code",
   "execution_count": 8,
   "metadata": {},
   "outputs": [
    {
     "data": {
      "image/png": "[encoded data removed]",
      "text/plain": [
       "<Figure size 640x480 with 1 Axes>"
      ]
     },
     "metadata": {},
     "output_type": "display_data"
    }
   ],
   "source": [
    "import matplotlib.pyplot as plt\n",
    "import seaborn as sns\n",
    "\n",
    "m.load(best_path)\n",
    "_conf_mat = confusion_matrix(m, test_set)\n",
    "\n",
    "sns.reset_defaults()\n",
    "ax = sns.heatmap(_conf_mat, annot=True, fmt='d', cbar=False)\n",
    "ax.set_yticklabels(target.target_name_confuser_rejection[:3], rotation=0)\n",
    "ax.set_xticklabels(target.target_name_confuser_rejection[:3], rotation=30)\n",
    "\n",
    "plt.xlabel('prediction', fontsize=12)\n",
    "plt.ylabel('label', fontsize=12)\n",
    "\n",
    "\n",
    "plt.show()"
   ]
  },
  {
   "cell_type": "markdown",
   "metadata": {},
   "source": [
    "### Confuser Rejection"
   ]
  },
  {
   "cell_type": "code",
   "execution_count": 9,
   "metadata": {},
   "outputs": [],
   "source": [
    "def confuser_rejection(_m, ds):\n",
    "        \n",
    "    num_known = 0\n",
    "    num_confuser = 0\n",
    "    \n",
    "    posteriors = []\n",
    "    gt = []\n",
    "    \n",
    "    _softmax = torch.nn.Softmax(dim=1)\n",
    "    for i, data in enumerate(ds):\n",
    "        images, labels, _ = data\n",
    "        \n",
    "        is_confuser = labels > 2\n",
    "        \n",
    "        num_known += not is_confuser\n",
    "        num_confuser += is_confuser\n",
    "        \n",
    "        predictions = _m.inference(images)\n",
    "        predictions = _softmax(predictions)\n",
    "        \n",
    "        posteriors.append(predictions)\n",
    "        gt.append(is_confuser)\n",
    "        \n",
    "#         print(f'{predictions.cpu().tolist()[0][0]:.2f}, {predictions.cpu().tolist()[0][1]:.2f}, {predictions.cpu().tolist()[0][2]:.2f}')\n",
    "        \n",
    "    p_d = []\n",
    "    p_fa = []\n",
    "    for th in np.arange(0., 1.1, 0.0001):\n",
    "        as_known = 0\n",
    "        confuser_as_known = 0\n",
    "        \n",
    "        for predictions, is_confuser in zip(posteriors, gt):\n",
    "            as_confuser = predictions < th\n",
    "            if torch.sum(as_confuser) == 3:\n",
    "                continue\n",
    "\n",
    "            if is_confuser:\n",
    "                confuser_as_known += 1\n",
    "            else:\n",
    "                as_known += 1\n",
    "        \n",
    "        p_d.append(as_known / num_known)\n",
    "        p_fa.append(confuser_as_known / num_confuser)\n",
    "        \n",
    "    return p_d, p_fa"
   ]
  },
  {
   "cell_type": "code",
   "execution_count": null,
   "metadata": {
    "scrolled": false
   },
   "outputs": [
    {
     "name": "stderr",
     "output_type": "stream",
     "text": [
      "load test data set: 1135it [00:00, 2242.96it/s]\n"
     ]
    }
   ],
   "source": [
    "\n",
    "test_set = load_dataset('dataset', False, 'confuser-rejection', 1)\n",
    "d, fa = confuser_rejection(m, test_set)\n",
    "\n",
    "\n",
    "plt.plot([0, 1], [0, 1], linestyle='--', markersize=0.01, color='black')\n",
    "plt.plot(fa, d)\n",
    "plt.xlabel('probability of false alarm')\n",
    "plt.ylabel('probability of detection')\n",
    "plt.xticks(np.arange(0., 1.1, 0.1))\n",
    "plt.yticks(np.arange(0., 1.1, 0.1))\n",
    "plt.grid(True)\n"
   ]
  },
  {
   "cell_type": "code",
   "execution_count": null,
   "metadata": {},
   "outputs": [],
   "source": [
    "plt.plot([0, 1], [0, 1], linestyle='--', markersize=0.01, color='black')\n",
    "plt.plot(fa, d)\n",
    "plt.xlabel('probability of false alarm')\n",
    "plt.ylabel('probability of detection')\n",
    "plt.xticks(np.arange(0., 1.1, 0.1))\n",
    "plt.yticks(np.arange(0., 1.1, 0.1))\n",
    "plt.xlim(0.2, 1.0)\n",
    "plt.ylim(0.45, 1.0)\n",
    "plt.grid(True)"
   ]
  },
  {
   "cell_type": "code",
   "execution_count": null,
   "metadata": {},
   "outputs": [],
   "source": []
  }
 ],
 "metadata": {
  "kernelspec": {
   "display_name": "Python 3 (ipykernel)",
   "language": "python",
   "name": "python3"
  },
  "language_info": {
   "codemirror_mode": {
    "name": "ipython",
    "version": 3
   },
   "file_extension": ".py",
   "mimetype": "text/x-python",
   "name": "python",
   "nbconvert_exporter": "python",
   "pygments_lexer": "ipython3",
   "version": "3.7.9"
  }
 },
 "nbformat": 4,
 "nbformat_minor": 4
}
